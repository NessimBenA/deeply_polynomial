{
  "nbformat": 4,
  "nbformat_minor": 0,
  "metadata": {
    "colab": {
      "provenance": []
    },
    "kernelspec": {
      "name": "python3",
      "display_name": "Python 3"
    },
    "language_info": {
      "name": "python"
    }
  },
  "cells": [
    {
      "cell_type": "code",
      "execution_count": null,
      "metadata": {
        "colab": {
          "base_uri": "https://localhost:8080/"
        },
        "id": "nZC_xxPznMnM",
        "outputId": "7366b71b-5866-417d-c470-e18faf538edf"
      },
      "outputs": [
        {
          "output_type": "stream",
          "name": "stdout",
          "text": [
            "Looking in indexes: https://pypi.org/simple, https://us-python.pkg.dev/colab-wheels/public/simple/\n",
            "Collecting pytorch-lightning\n",
            "  Downloading pytorch_lightning-1.9.3-py3-none-any.whl (826 kB)\n",
            "\u001b[2K     \u001b[90m━━━━━━━━━━━━━━━━━━━━━━━━━━━━━━━━━━━━━━\u001b[0m \u001b[32m826.4/826.4 KB\u001b[0m \u001b[31m24.7 MB/s\u001b[0m eta \u001b[36m0:00:00\u001b[0m\n",
            "\u001b[?25hRequirement already satisfied: torch>=1.10.0 in /usr/local/lib/python3.8/dist-packages (from pytorch-lightning) (1.13.1+cu116)\n",
            "Requirement already satisfied: PyYAML>=5.4 in /usr/local/lib/python3.8/dist-packages (from pytorch-lightning) (6.0)\n",
            "Requirement already satisfied: fsspec[http]>2021.06.0 in /usr/local/lib/python3.8/dist-packages (from pytorch-lightning) (2023.1.0)\n",
            "Requirement already satisfied: tqdm>=4.57.0 in /usr/local/lib/python3.8/dist-packages (from pytorch-lightning) (4.64.1)\n",
            "Requirement already satisfied: numpy>=1.17.2 in /usr/local/lib/python3.8/dist-packages (from pytorch-lightning) (1.22.4)\n",
            "Collecting torchmetrics>=0.7.0\n",
            "  Downloading torchmetrics-0.11.1-py3-none-any.whl (517 kB)\n",
            "\u001b[2K     \u001b[90m━━━━━━━━━━━━━━━━━━━━━━━━━━━━━━━━━━━━━━\u001b[0m \u001b[32m517.2/517.2 KB\u001b[0m \u001b[31m39.6 MB/s\u001b[0m eta \u001b[36m0:00:00\u001b[0m\n",
            "\u001b[?25hCollecting lightning-utilities>=0.6.0.post0\n",
            "  Downloading lightning_utilities-0.7.1-py3-none-any.whl (18 kB)\n",
            "Requirement already satisfied: packaging>=17.1 in /usr/local/lib/python3.8/dist-packages (from pytorch-lightning) (23.0)\n",
            "Requirement already satisfied: typing-extensions>=4.0.0 in /usr/local/lib/python3.8/dist-packages (from pytorch-lightning) (4.5.0)\n",
            "Requirement already satisfied: aiohttp!=4.0.0a0,!=4.0.0a1 in /usr/local/lib/python3.8/dist-packages (from fsspec[http]>2021.06.0->pytorch-lightning) (3.8.4)\n",
            "Requirement already satisfied: requests in /usr/local/lib/python3.8/dist-packages (from fsspec[http]>2021.06.0->pytorch-lightning) (2.25.1)\n",
            "Requirement already satisfied: yarl<2.0,>=1.0 in /usr/local/lib/python3.8/dist-packages (from aiohttp!=4.0.0a0,!=4.0.0a1->fsspec[http]>2021.06.0->pytorch-lightning) (1.8.2)\n",
            "Requirement already satisfied: async-timeout<5.0,>=4.0.0a3 in /usr/local/lib/python3.8/dist-packages (from aiohttp!=4.0.0a0,!=4.0.0a1->fsspec[http]>2021.06.0->pytorch-lightning) (4.0.2)\n",
            "Requirement already satisfied: attrs>=17.3.0 in /usr/local/lib/python3.8/dist-packages (from aiohttp!=4.0.0a0,!=4.0.0a1->fsspec[http]>2021.06.0->pytorch-lightning) (22.2.0)\n",
            "Requirement already satisfied: multidict<7.0,>=4.5 in /usr/local/lib/python3.8/dist-packages (from aiohttp!=4.0.0a0,!=4.0.0a1->fsspec[http]>2021.06.0->pytorch-lightning) (6.0.4)\n",
            "Requirement already satisfied: charset-normalizer<4.0,>=2.0 in /usr/local/lib/python3.8/dist-packages (from aiohttp!=4.0.0a0,!=4.0.0a1->fsspec[http]>2021.06.0->pytorch-lightning) (3.0.1)\n",
            "Requirement already satisfied: aiosignal>=1.1.2 in /usr/local/lib/python3.8/dist-packages (from aiohttp!=4.0.0a0,!=4.0.0a1->fsspec[http]>2021.06.0->pytorch-lightning) (1.3.1)\n",
            "Requirement already satisfied: frozenlist>=1.1.1 in /usr/local/lib/python3.8/dist-packages (from aiohttp!=4.0.0a0,!=4.0.0a1->fsspec[http]>2021.06.0->pytorch-lightning) (1.3.3)\n",
            "Requirement already satisfied: idna<3,>=2.5 in /usr/local/lib/python3.8/dist-packages (from requests->fsspec[http]>2021.06.0->pytorch-lightning) (2.10)\n",
            "Requirement already satisfied: certifi>=2017.4.17 in /usr/local/lib/python3.8/dist-packages (from requests->fsspec[http]>2021.06.0->pytorch-lightning) (2022.12.7)\n",
            "Requirement already satisfied: chardet<5,>=3.0.2 in /usr/local/lib/python3.8/dist-packages (from requests->fsspec[http]>2021.06.0->pytorch-lightning) (4.0.0)\n",
            "Requirement already satisfied: urllib3<1.27,>=1.21.1 in /usr/local/lib/python3.8/dist-packages (from requests->fsspec[http]>2021.06.0->pytorch-lightning) (1.24.3)\n",
            "Installing collected packages: lightning-utilities, torchmetrics, pytorch-lightning\n",
            "Successfully installed lightning-utilities-0.7.1 pytorch-lightning-1.9.3 torchmetrics-0.11.1\n"
          ]
        }
      ],
      "source": [
        "!pip install pytorch-lightning\n"
      ]
    },
    {
      "cell_type": "code",
      "source": [
        "import numpy as np\n",
        "import matplotlib.pyplot as plt\n",
        "\n",
        "def plot_xor():\n",
        "    # Define input data and XOR truth table\n",
        "    X = np.array([[0, 0], [0, 1], [1, 0], [1, 1]])\n",
        "    y = np.array([0, 1, 1, 0])\n",
        "\n",
        "    # Define marker size, edge width, and color map\n",
        "    marker_size = 100\n",
        "    edge_width = 2\n",
        "    cmap = plt.cm.bwr\n",
        "\n",
        "    # Plot input data\n",
        "    plt.scatter(X[:, 0], X[:, 1], s=marker_size, c=y, cmap=cmap, edgecolors='k', linewidths=edge_width)\n",
        "\n",
        "    # Set plot limits and labels\n",
        "    plt.xlim(-0.5, 1.5)\n",
        "    plt.ylim(-0.5, 1.5)\n",
        "    plt.xlabel('Input 1')\n",
        "    plt.ylabel('Input 2')\n",
        "    plt.title('XOR Function')\n",
        "\n",
        "    # Show plot\n",
        "    plt.show()\n",
        "\n"
      ],
      "metadata": {
        "id": "j0gabZ4Zz7Fh"
      },
      "execution_count": null,
      "outputs": []
    },
    {
      "cell_type": "code",
      "source": [
        "plot_xor()"
      ],
      "metadata": {
        "colab": {
          "base_uri": "https://localhost:8080/",
          "height": 295
        },
        "id": "TGBTqexLnTEz",
        "outputId": "5d2eeb10-41f2-4064-f182-917f16bcb122"
      },
      "execution_count": null,
      "outputs": [
        {
          "output_type": "display_data",
          "data": {
            "text/plain": [
              "<Figure size 432x288 with 1 Axes>"
            ],
            "image/png": "[encoded data removed]"
          },
          "metadata": {
            "needs_background": "light"
          }
        }
      ]
    },
    {
      "cell_type": "code",
      "source": [
        "import torch\n",
        "import matplotlib.pyplot as plt\n",
        "import numpy as np\n",
        "\n",
        "class Perceptron(torch.nn.Module):\n",
        "    def __init__(self, input_dim):\n",
        "        super(Perceptron, self).__init__()\n",
        "        self.fc1 = torch.nn.Linear(input_dim, 1)\n",
        "\n",
        "    def forward(self, x):\n",
        "        x = self.fc1(x)\n",
        "        return torch.sigmoid(x)\n",
        "\n",
        "# Define the XOR dataset\n",
        "X = torch.tensor([[0, 0], [0, 1], [1, 0], [1, 1]], dtype=torch.float32)\n",
        "y = torch.tensor([0, 1, 1, 0], dtype=torch.float32)\n",
        "\n",
        "# Create a Perceptron model\n",
        "model = Perceptron(input_dim=2)\n",
        "\n",
        "# Define a binary cross-entropy loss function and a stochastic gradient descent optimizer\n",
        "criterion = torch.nn.BCELoss()\n",
        "optimizer = torch.optim.SGD(model.parameters(), lr=0.1)\n",
        "\n",
        "# Train the model for 100 epochs\n",
        "for epoch in range(10000):\n",
        "    # Forward pass\n",
        "    y_pred = model(X)\n",
        "\n",
        "    # Compute the loss\n",
        "    loss = criterion(y_pred.view(-1), y)\n",
        "\n",
        "    # Backward pass and optimization\n",
        "    optimizer.zero_grad()\n",
        "    loss.backward()\n",
        "    optimizer.step()\n",
        "\n",
        "    # Print the loss every 10 epochs\n",
        "    if epoch % 1000 == 0:\n",
        "        print(f\"Epoch {epoch}: loss={loss.item():.4f}\")\n",
        "\n",
        "# Evaluate the model on a grid of points to visualize the decision boundary\n",
        "x1, x2 = np.meshgrid(np.linspace(-0.5, 1.5, 100), np.linspace(-0.5, 1.5, 100))\n",
        "X_grid = torch.tensor(np.c_[x1.ravel(), x2.ravel()], dtype=torch.float32)\n",
        "with torch.no_grad():\n",
        "    y_grid = model(X_grid).numpy().reshape(x1.shape)\n",
        "\n",
        "# Plot the XOR dataset and the decision boundary\n",
        "plt.figure(figsize=(6, 6))\n",
        "plt.scatter(X[:, 0], X[:, 1], c=y, cmap='cool', edgecolors='k')\n",
        "plt.contourf(x1, x2, y_grid, levels=[-0.1, 0.5, 1.1], alpha=0.2, colors=['tab:orange', 'tab:blue'])\n",
        "plt.xlim([-0.5, 1.5])\n",
        "plt.ylim([-0.5, 1.5])\n",
        "plt.xlabel('Input 1')\n",
        "plt.ylabel('Input 2')\n",
        "plt.title('Perceptron Decision Boundary on XOR')\n",
        "plt.show()"
      ],
      "metadata": {
        "colab": {
          "base_uri": "https://localhost:8080/",
          "height": 578
        },
        "id": "p1AwiF8rnZRV",
        "outputId": "ed4c4add-0fcc-4b5e-82b5-250ce44af635"
      },
      "execution_count": null,
      "outputs": [
        {
          "output_type": "stream",
          "name": "stdout",
          "text": [
            "Epoch 0: loss=0.7675\n",
            "Epoch 1000: loss=0.6931\n",
            "Epoch 2000: loss=0.6931\n",
            "Epoch 3000: loss=0.6931\n",
            "Epoch 4000: loss=0.6931\n",
            "Epoch 5000: loss=0.6931\n",
            "Epoch 6000: loss=0.6931\n",
            "Epoch 7000: loss=0.6931\n",
            "Epoch 8000: loss=0.6931\n",
            "Epoch 9000: loss=0.6931\n"
          ]
        },
        {
          "output_type": "display_data",
          "data": {
            "text/plain": [
              "<Figure size 432x432 with 1 Axes>"
            ],
            "image/png": "[encoded data removed]"
          },
          "metadata": {
            "needs_background": "light"
          }
        }
      ]
    },
    {
      "cell_type": "code",
      "source": [
        "#test the variation of 2 2 2 2 "
      ],
      "metadata": {
        "id": "vOu-snVizS9u"
      },
      "execution_count": null,
      "outputs": []
    },
    {
      "cell_type": "code",
      "source": [
        "import torch\n",
        "import matplotlib.pyplot as plt\n",
        "import numpy as np\n",
        "\n",
        "class Perceptron(torch.nn.Module):\n",
        "    def __init__(self, input_dim):\n",
        "        super(Perceptron, self).__init__()\n",
        "        self.fc1 = torch.nn.Linear(input_dim, 2)\n",
        "        self.fc2 = torch.nn.Linear(2, 2)\n",
        "        self.fc3 = torch.nn.Linear(2, 2)\n",
        "        self.fc4 = torch.nn.Linear(2, 1)\n",
        "\n",
        "    def forward(self, x):\n",
        "        x = self.fc1(x)\n",
        "        x = self.fc2(x)\n",
        "        x = self.fc3(x)\n",
        "        x = self.fc4(x)\n",
        "        return torch.sigmoid(x)\n",
        "\n",
        "# Define the XOR dataset\n",
        "X = torch.tensor([[0, 0], [0, 1], [1, 0], [1, 1]], dtype=torch.float32)\n",
        "y = torch.tensor([0, 1, 1, 0], dtype=torch.float32)\n",
        "\n",
        "# Create a Perceptron model\n",
        "model = Perceptron(input_dim=2)\n",
        "\n",
        "# Define a binary cross-entropy loss function and a stochastic gradient descent optimizer\n",
        "criterion = torch.nn.BCELoss()\n",
        "optimizer = torch.optim.SGD(model.parameters(), lr=0.1)\n",
        "\n",
        "# Train the model for 100 epochs\n",
        "for epoch in range(10000):\n",
        "    # Forward pass\n",
        "    y_pred = model(X)\n",
        "\n",
        "    # Compute the loss\n",
        "    loss = criterion(y_pred.view(-1), y)\n",
        "\n",
        "    # Backward pass and optimization\n",
        "    optimizer.zero_grad()\n",
        "    loss.backward()\n",
        "    optimizer.step()\n",
        "\n",
        "    # Print the loss every 10 epochs\n",
        "    if epoch % 1000 == 0:\n",
        "        print(f\"Epoch {epoch}: loss={loss.item():.4f}\")\n",
        "\n",
        "# Evaluate the model on a grid of points to visualize the decision boundary\n",
        "x1, x2 = np.meshgrid(np.linspace(-0.5, 1.5, 100), np.linspace(-0.5, 1.5, 100))\n",
        "X_grid = torch.tensor(np.c_[x1.ravel(), x2.ravel()], dtype=torch.float32)\n",
        "with torch.no_grad():\n",
        "    y_grid = model(X_grid).numpy().reshape(x1.shape)\n",
        "\n",
        "# Plot the XOR dataset and the decision boundary\n",
        "plt.figure(figsize=(6, 6))\n",
        "plt.scatter(X[:, 0], X[:, 1], c=y, cmap='cool', edgecolors='k')\n",
        "plt.contourf(x1, x2, y_grid, levels=[-0.1, 0.5, 1.1], alpha=0.2, colors=['tab:orange', 'tab:blue'])\n",
        "plt.xlim([-0.5, 1.5])\n",
        "plt.ylim([-0.5, 1.5])\n",
        "plt.xlabel('Input 1')\n",
        "plt.ylabel('Input 2')\n",
        "plt.title('Multi Layer Perceptron Decision Boundary on XOR')\n",
        "plt.show()"
      ],
      "metadata": {
        "colab": {
          "base_uri": "https://localhost:8080/",
          "height": 578
        },
        "id": "jT3hmQW2tJQl",
        "outputId": "867effd3-4e3f-4bd9-be1d-c1578e099cb5"
      },
      "execution_count": null,
      "outputs": [
        {
          "output_type": "stream",
          "name": "stdout",
          "text": [
            "Epoch 0: loss=0.7122\n",
            "Epoch 1000: loss=0.6932\n",
            "Epoch 2000: loss=0.6931\n",
            "Epoch 3000: loss=0.6931\n",
            "Epoch 4000: loss=0.6931\n",
            "Epoch 5000: loss=0.6931\n",
            "Epoch 6000: loss=0.6931\n",
            "Epoch 7000: loss=0.6931\n",
            "Epoch 8000: loss=0.6931\n",
            "Epoch 9000: loss=0.6931\n"
          ]
        },
        {
          "output_type": "display_data",
          "data": {
            "text/plain": [
              "<Figure size 432x432 with 1 Axes>"
            ],
            "image/png": "[encoded data removed]"
          },
          "metadata": {
            "needs_background": "light"
          }
        }
      ]
    },
    {
      "cell_type": "code",
      "source": [
        "import torch\n",
        "import matplotlib.pyplot as plt\n",
        "import numpy as np\n",
        "\n",
        "class Perceptron(torch.nn.Module):\n",
        "    def __init__(self, input_dim):\n",
        "        super(Perceptron, self).__init__()\n",
        "        self.fc1 = torch.nn.Linear(input_dim, 3)\n",
        "        self.activation_1 = torch.nn.ReLU()\n",
        "        # self.fc2 = torch.nn.Linear(2, 2)\n",
        "        # self.fc3 = torch.nn.Linear(2, 2)\n",
        "        self.fc4 = torch.nn.Linear(3, 1)\n",
        "\n",
        "    def forward(self, x):\n",
        "        x = self.fc1(x)\n",
        "        x = self.activation_1(x)\n",
        "        # x = self.fc2(x)\n",
        "        # x = self.fc3(x)\n",
        "        x = self.fc4(x)\n",
        "        return torch.sigmoid(x)\n",
        "\n",
        "# Define the XOR dataset\n",
        "X = torch.tensor([[0, 0], [0, 1], [1, 0], [1, 1]], dtype=torch.float32)\n",
        "y = torch.tensor([0, 1, 1, 0], dtype=torch.float32)\n",
        "\n",
        "# Create a Perceptron model\n",
        "model = Perceptron(input_dim=2)\n",
        "\n",
        "# Define a binary cross-entropy loss function and a stochastic gradient descent optimizer\n",
        "criterion = torch.nn.BCELoss()\n",
        "optimizer = torch.optim.SGD(model.parameters(), lr=0.1)\n",
        "\n",
        "# Train the model for 100 epochs\n",
        "for epoch in range(10000):\n",
        "    # Forward pass\n",
        "    y_pred = model(X)\n",
        "\n",
        "    # Compute the loss\n",
        "    loss = criterion(y_pred.view(-1), y)\n",
        "\n",
        "    # Backward pass and optimization\n",
        "    optimizer.zero_grad()\n",
        "    loss.backward()\n",
        "    optimizer.step()\n",
        "\n",
        "    # Print the loss every 10 epochs\n",
        "    if epoch % 1000 == 0:\n",
        "        print(f\"Epoch {epoch}: loss={loss.item():.4f}\")\n",
        "\n",
        "# Evaluate the model on a grid of points to visualize the decision boundary\n",
        "x1, x2 = np.meshgrid(np.linspace(-0.5, 1.5, 100), np.linspace(-0.5, 1.5, 100))\n",
        "X_grid = torch.tensor(np.c_[x1.ravel(), x2.ravel()], dtype=torch.float32)\n",
        "with torch.no_grad():\n",
        "    y_grid = model(X_grid).numpy().reshape(x1.shape)\n",
        "\n",
        "# Plot the XOR dataset and the decision boundary\n",
        "plt.figure(figsize=(6, 6))\n",
        "plt.scatter(X[:, 0], X[:, 1], c=y, cmap='cool', edgecolors='k')\n",
        "plt.contourf(x1, x2, y_grid, levels=[-0.1, 0.5, 1.1], alpha=0.2, colors=['tab:orange', 'tab:blue'])\n",
        "plt.xlim([-0.5, 1.5])\n",
        "plt.ylim([-0.5, 1.5])\n",
        "plt.xlabel('Input 1')\n",
        "plt.ylabel('Input 2')\n",
        "plt.title('Multi Layer Perceptron Decision Boundary on XOR')\n",
        "plt.show()"
      ],
      "metadata": {
        "colab": {
          "base_uri": "https://localhost:8080/",
          "height": 578
        },
        "id": "-dKuXR04uvqZ",
        "outputId": "155533e9-52b6-4d46-dbe3-c7a034c13edd"
      },
      "execution_count": null,
      "outputs": [
        {
          "output_type": "stream",
          "name": "stdout",
          "text": [
            "Epoch 0: loss=0.7019\n",
            "Epoch 1000: loss=0.0705\n",
            "Epoch 2000: loss=0.0185\n",
            "Epoch 3000: loss=0.0099\n",
            "Epoch 4000: loss=0.0066\n",
            "Epoch 5000: loss=0.0049\n",
            "Epoch 6000: loss=0.0039\n",
            "Epoch 7000: loss=0.0032\n",
            "Epoch 8000: loss=0.0027\n",
            "Epoch 9000: loss=0.0024\n"
          ]
        },
        {
          "output_type": "display_data",
          "data": {
            "text/plain": [
              "<Figure size 432x432 with 1 Axes>"
            ],
            "image/png": "[encoded data removed]"
          },
          "metadata": {
            "needs_background": "light"
          }
        }
      ]
    },
    {
      "cell_type": "code",
      "source": [
        "import torch\n",
        "import matplotlib.pyplot as plt\n",
        "import numpy as np\n",
        "\n",
        "\n",
        "class MultiplicativeAdditivePerceptron(torch.nn.Module):\n",
        "    def __init__(self):\n",
        "        super(MultiplicativeAdditivePerceptron, self).__init__()\n",
        "        self.weight = torch.nn.Parameter(torch.randn(3))\n",
        "        self.bias = torch.nn.Parameter(torch.randn(1))\n",
        "\n",
        "    def forward(self, x):\n",
        "        # Compute the product of the inputs\n",
        "        product = x[:, 0] * x[:, 1]\n",
        "\n",
        "        # Concatenate the product with the inputs\n",
        "        combined = torch.cat((x, product.unsqueeze(1)), dim=1)\n",
        "\n",
        "        # Compute the weighted sum\n",
        "        weighted_sum = torch.sum(self.weight * combined, dim=1) + self.bias\n",
        "\n",
        "        # Apply the activation function (sigmoid in this case)\n",
        "        output = torch.sigmoid(weighted_sum)\n",
        "\n",
        "        return output\n",
        "# Define the XOR dataset\n",
        "X = torch.tensor([[0, 0], [0, 1], [1, 0], [1, 1]], dtype=torch.float32)\n",
        "y = torch.tensor([0, 1, 1, 0], dtype=torch.float32)\n",
        "\n",
        "# Create a Perceptron model\n",
        "model = MultiplicativeAdditivePerceptron()\n",
        "\n",
        "# Define a binary cross-entropy loss function and a stochastic gradient descent optimizer\n",
        "criterion = torch.nn.BCELoss()\n",
        "optimizer = torch.optim.SGD(model.parameters(), lr=0.1)\n",
        "\n",
        "# Train the model for 100 epochs\n",
        "for epoch in range(1000):\n",
        "    # Forward pass\n",
        "    y_pred = model(X)\n",
        "\n",
        "    # Compute the loss\n",
        "    loss = criterion(y_pred.view(-1), y)\n",
        "\n",
        "    # Backward pass and optimization\n",
        "    optimizer.zero_grad()\n",
        "    loss.backward()\n",
        "    optimizer.step()\n",
        "\n",
        "    # Print the loss every 10 epochs\n",
        "    if epoch % 100 == 0:\n",
        "        print(f\"Epoch {epoch}: loss={loss.item():.4f}\")\n",
        "\n",
        "# Evaluate the model on a grid of points to visualize the decision boundary\n",
        "x1, x2 = np.meshgrid(np.linspace(-0.5, 1.5, 100), np.linspace(-0.5, 1.5, 100))\n",
        "X_grid = torch.tensor(np.c_[x1.ravel(), x2.ravel()], dtype=torch.float32)\n",
        "with torch.no_grad():\n",
        "    y_grid = model(X_grid).numpy().reshape(x1.shape)\n",
        "\n",
        "# Plot the XOR dataset and the decision boundary\n",
        "plt.figure(figsize=(6, 6))\n",
        "plt.scatter(X[:, 0], X[:, 1], c=y, cmap='cool', edgecolors='k')\n",
        "plt.contourf(x1, x2, y_grid, levels=[-0.1, 0.5, 1.1], alpha=0.2, colors=['tab:orange', 'tab:blue'])\n",
        "plt.xlim([-0.5, 1.5])\n",
        "plt.ylim([-0.5, 1.5])\n",
        "plt.xlabel('Input 1')\n",
        "plt.ylabel('Input 2')\n",
        "plt.title('Multiplicative Perceptron Decision Boundary on XOR')\n",
        "plt.show()"
      ],
      "metadata": {
        "colab": {
          "base_uri": "https://localhost:8080/",
          "height": 578
        },
        "id": "T5P4alLGyvPq",
        "outputId": "d90701e8-585b-4ad2-a3cb-d8bd2e33e52a"
      },
      "execution_count": null,
      "outputs": [
        {
          "output_type": "stream",
          "name": "stdout",
          "text": [
            "Epoch 0: loss=0.6045\n",
            "Epoch 100: loss=0.5169\n",
            "Epoch 200: loss=0.4573\n",
            "Epoch 300: loss=0.4093\n",
            "Epoch 400: loss=0.3692\n",
            "Epoch 500: loss=0.3352\n",
            "Epoch 600: loss=0.3061\n",
            "Epoch 700: loss=0.2810\n",
            "Epoch 800: loss=0.2592\n",
            "Epoch 900: loss=0.2402\n"
          ]
        },
        {
          "output_type": "display_data",
          "data": {
            "text/plain": [
              "<Figure size 432x432 with 1 Axes>"
            ],
            "image/png": "[encoded data removed]"
          },
          "metadata": {
            "needs_background": "light"
          }
        }
      ]
    },
    {
      "cell_type": "code",
      "source": [],
      "metadata": {
        "id": "M_2w6Mqo5AoN"
      },
      "execution_count": null,
      "outputs": []
    }
  ]
}